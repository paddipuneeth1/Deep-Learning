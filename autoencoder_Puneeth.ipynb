{
  "nbformat": 4,
  "nbformat_minor": 0,
  "metadata": {
    "colab": {
      "provenance": []
    },
    "kernelspec": {
      "name": "python3",
      "display_name": "Python 3"
    },
    "language_info": {
      "name": "python"
    }
  },
  "cells": [
    {
      "cell_type": "code",
      "execution_count": 1,
      "metadata": {
        "id": "8quI6EbFMwWu"
      },
      "outputs": [],
      "source": [
        "from tensorflow import keras"
      ]
    },
    {
      "cell_type": "code",
      "source": [
        "(x_train, _), (x_test, _) = keras.datasets.mnist.load_data()\n",
        "x_train = x_train / 255\n",
        "x_test = x_test / 255"
      ],
      "metadata": {
        "colab": {
          "base_uri": "https://localhost:8080/"
        },
        "id": "UHbsRFjAMzXe",
        "outputId": "cbafce54-96b9-456e-8d4a-aea645647fe5"
      },
      "execution_count": 2,
      "outputs": [
        {
          "output_type": "stream",
          "name": "stdout",
          "text": [
            "Downloading data from https://storage.googleapis.com/tensorflow/tf-keras-datasets/mnist.npz\n",
            "11490434/11490434 [==============================] - 0s 0us/step\n"
          ]
        }
      ]
    },
    {
      "cell_type": "code",
      "source": [
        "encoder = keras.models.Sequential([\n",
        "    keras.layers.Flatten(input_shape=[28, 28]),\n",
        "    keras.layers.Dense(100, activation=\"relu\"),\n",
        "    keras.layers.Dense(30, activation=\"relu\"),\n",
        "])"
      ],
      "metadata": {
        "id": "5UzkUx9gMz6H"
      },
      "execution_count": 3,
      "outputs": []
    },
    {
      "cell_type": "code",
      "source": [
        "decoder = keras.models.Sequential([\n",
        "    keras.layers.Dense(100, activation=\"relu\", input_shape=[30]),\n",
        "    keras.layers.Dense(28 * 28, activation=\"sigmoid\"),\n",
        "    keras.layers.Reshape([28, 28])\n",
        "])"
      ],
      "metadata": {
        "id": "yVBi5B5ONMx5"
      },
      "execution_count": 5,
      "outputs": []
    },
    {
      "cell_type": "markdown",
      "source": [
        "Now stack them for training:\n"
      ],
      "metadata": {
        "id": "r5_BZ7twNHxo"
      }
    },
    {
      "cell_type": "code",
      "source": [
        "stacked_autoencoder = keras.models.Sequential([encoder, decoder])"
      ],
      "metadata": {
        "id": "t3mUroA6NJIi"
      },
      "execution_count": 6,
      "outputs": []
    },
    {
      "cell_type": "code",
      "source": [
        "stacked_autoencoder.compile(loss=\"binary_crossentropy\",\n",
        "                   optimizer='adam')"
      ],
      "metadata": {
        "id": "TZNaa1pgNKYq"
      },
      "execution_count": 7,
      "outputs": []
    },
    {
      "cell_type": "code",
      "source": [
        "history = stacked_autoencoder.fit(x_train, x_train, epochs=10,\n",
        "                                  validation_data=[x_test, x_test])"
      ],
      "metadata": {
        "colab": {
          "base_uri": "https://localhost:8080/"
        },
        "id": "xDes2pjiNPSr",
        "outputId": "cdb1bb53-d958-4d5b-c875-b39f5dafaf64"
      },
      "execution_count": 8,
      "outputs": [
        {
          "output_type": "stream",
          "name": "stdout",
          "text": [
            "Epoch 1/10\n",
            "1875/1875 [==============================] - 12s 6ms/step - loss: 0.1466 - val_loss: 0.1089\n",
            "Epoch 2/10\n",
            "1875/1875 [==============================] - 11s 6ms/step - loss: 0.1049 - val_loss: 0.0996\n",
            "Epoch 3/10\n",
            "1875/1875 [==============================] - 11s 6ms/step - loss: 0.0995 - val_loss: 0.0970\n",
            "Epoch 4/10\n",
            "1875/1875 [==============================] - 12s 7ms/step - loss: 0.0967 - val_loss: 0.0945\n",
            "Epoch 5/10\n",
            "1875/1875 [==============================] - 12s 6ms/step - loss: 0.0948 - val_loss: 0.0927\n",
            "Epoch 6/10\n",
            "1875/1875 [==============================] - 11s 6ms/step - loss: 0.0936 - val_loss: 0.0923\n",
            "Epoch 7/10\n",
            "1875/1875 [==============================] - 11s 6ms/step - loss: 0.0926 - val_loss: 0.0911\n",
            "Epoch 8/10\n",
            "1875/1875 [==============================] - 10s 6ms/step - loss: 0.0919 - val_loss: 0.0907\n",
            "Epoch 9/10\n",
            "1875/1875 [==============================] - 11s 6ms/step - loss: 0.0912 - val_loss: 0.0902\n",
            "Epoch 10/10\n",
            "1875/1875 [==============================] - 11s 6ms/step - loss: 0.0904 - val_loss: 0.0888\n"
          ]
        }
      ]
    },
    {
      "cell_type": "code",
      "source": [
        "%pylab"
      ],
      "metadata": {
        "colab": {
          "base_uri": "https://localhost:8080/"
        },
        "id": "If7YkNg1N3VO",
        "outputId": "3ab6a0dd-5ffa-4343-9ffa-33c2d6721f34"
      },
      "execution_count": 10,
      "outputs": [
        {
          "output_type": "stream",
          "name": "stdout",
          "text": [
            "Using matplotlib backend: agg\n",
            "Populating the interactive namespace from numpy and matplotlib\n"
          ]
        }
      ]
    },
    {
      "cell_type": "code",
      "source": [
        "%pylab inline"
      ],
      "metadata": {
        "colab": {
          "base_uri": "https://localhost:8080/"
        },
        "id": "3sziqNFoN7Iw",
        "outputId": "f76a7a14-d109-4ec1-8ace-06df95fe7289"
      },
      "execution_count": 11,
      "outputs": [
        {
          "output_type": "stream",
          "name": "stdout",
          "text": [
            "Populating the interactive namespace from numpy and matplotlib\n"
          ]
        }
      ]
    },
    {
      "cell_type": "code",
      "source": [
        "figsize(20, 5)\n",
        "for i in range(8):\n",
        "  subplot(2, 8, i+1)\n",
        "  pred = stacked_autoencoder.predict(x_test[i].reshape((1, 28, 28)))\n",
        "  imshow(x_test[i], cmap=\"binary\")\n",
        "\n",
        "  subplot(2, 8, i+8+1)\n",
        "  imshow(pred.reshape((28, 28)), cmap=\"binary\")"
      ],
      "metadata": {
        "colab": {
          "base_uri": "https://localhost:8080/",
          "height": 456
        },
        "id": "FNLrLgQ9NQVK",
        "outputId": "d814a0ed-38ed-4c57-bbd6-2389582e1084"
      },
      "execution_count": 12,
      "outputs": [
        {
          "output_type": "stream",
          "name": "stdout",
          "text": [
            "1/1 [==============================] - 0s 105ms/step\n",
            "1/1 [==============================] - 0s 19ms/step\n",
            "1/1 [==============================] - 0s 22ms/step\n",
            "1/1 [==============================] - 0s 19ms/step\n",
            "1/1 [==============================] - 0s 19ms/step\n",
            "1/1 [==============================] - 0s 18ms/step\n",
            "1/1 [==============================] - 0s 18ms/step\n",
            "1/1 [==============================] - 0s 25ms/step\n"
          ]
        },
        {
          "output_type": "display_data",
          "data": {
            "text/plain": [
              "<Figure size 1440x360 with 16 Axes>"
            ],
            "image/png": "[encoded data removed]"
          },
          "metadata": {
            "needs_background": "light"
          }
        }
      ]
    },
    {
      "cell_type": "code",
      "source": [
        "i = 0 # change this number\n",
        "\n",
        "figsize(10, 5)\n",
        "subplot(1, 3, 1)\n",
        "imshow(x_test[i], cmap=\"binary\")\n",
        "subplot(1, 3, 2)\n",
        "latent_vector = encoder.predict(x_test[i].reshape((1, 28, 28)))\n",
        "imshow(latent_vector, cmap=\"binary\")\n",
        "subplot(1, 3, 3)\n",
        "pred = decoder.predict(latent_vector)\n",
        "imshow(x_test[i], cmap=\"binary\")\n",
        "\n"
      ],
      "metadata": {
        "colab": {
          "base_uri": "https://localhost:8080/",
          "height": 265
        },
        "id": "U3R4H_H7NR0v",
        "outputId": "f77d46da-8edc-469f-85d5-15a52f1e5c3d"
      },
      "execution_count": 13,
      "outputs": [
        {
          "output_type": "stream",
          "name": "stdout",
          "text": [
            "1/1 [==============================] - 0s 48ms/step\n",
            "1/1 [==============================] - 0s 52ms/step\n"
          ]
        },
        {
          "output_type": "execute_result",
          "data": {
            "text/plain": [
              "<matplotlib.image.AxesImage at 0x7fc879256e10>"
            ]
          },
          "metadata": {},
          "execution_count": 13
        },
        {
          "output_type": "display_data",
          "data": {
            "text/plain": [
              "<Figure size 720x360 with 3 Axes>"
            ],
            "image/png": "[encoded data removed]"
          },
          "metadata": {
            "needs_background": "light"
          }
        }
      ]
    },
    {
      "cell_type": "code",
      "source": [
        "#Finding compression\n",
        "30 / (28 * 28), 1 - 30 / (28 * 28)"
      ],
      "metadata": {
        "colab": {
          "base_uri": "https://localhost:8080/"
        },
        "id": "6cC6k2ReNZ1Y",
        "outputId": "232a66f2-41ef-4b23-eb7e-fcc349f4210a"
      },
      "execution_count": 14,
      "outputs": [
        {
          "output_type": "execute_result",
          "data": {
            "text/plain": [
              "(0.03826530612244898, 0.9617346938775511)"
            ]
          },
          "metadata": {},
          "execution_count": 14
        }
      ]
    },
    {
      "cell_type": "markdown",
      "source": [
        "Compression of 96%"
      ],
      "metadata": {
        "id": "aW1bqNXKOCdZ"
      }
    },
    {
      "cell_type": "code",
      "source": [],
      "metadata": {
        "id": "cksgeAvsNbXX"
      },
      "execution_count": null,
      "outputs": []
    }
  ]
}